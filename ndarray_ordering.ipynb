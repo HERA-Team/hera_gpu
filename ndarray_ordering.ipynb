{
 "cells": [
  {
   "cell_type": "markdown",
   "metadata": {},
   "source": [
    "## A short description of numpy array ordering\n",
    "\n",
    "Motivation: It was found that hera_gpu is returning incorrect values. This was due to the numpy `antpos` array being stored in FORTRAN order in memory. The `antpos` array is produced by this line in hera_sim:\n",
    "```\n",
    "self.antpos = self.uvdata.get_ENU_antpos()[0].astype(self._real_dtype)\n",
    "```\n",
    "It is not known why `antpos` is produced in FORTRAN order.\n",
    "\n",
    "‘’FORTRAN order’’ refers to the internal representation of the numpy array. This is different to how the array appears to Python. Printing a numpy array gives the same result regardless of the internal representation. That is demonstrated here.\n",
    "\n",
    "### Create a numpy array\n",
    "\n",
    "Print the information about the ordering (CONTIGUOUS flags)."
   ]
  },
  {
   "cell_type": "code",
   "execution_count": 4,
   "metadata": {},
   "outputs": [
    {
     "name": "stdout",
     "output_type": "stream",
     "text": [
      "[[1 2 3]\n",
      " [4 5 6]] \n",
      "\n",
      "  C_CONTIGUOUS : True\n",
      "  F_CONTIGUOUS : False\n",
      "  OWNDATA : True\n",
      "  WRITEABLE : True\n",
      "  ALIGNED : True\n",
      "  WRITEBACKIFCOPY : False\n",
      "  UPDATEIFCOPY : False\n",
      "\n"
     ]
    }
   ],
   "source": [
    "import numpy as np\n",
    "\n",
    "a = np.array([[1, 2, 3], [4, 5, 6]])\n",
    "print(a, \"\\n\")\n",
    "print(a.flags)"
   ]
  },
  {
   "cell_type": "markdown",
   "metadata": {},
   "source": [
    "The array is in C order (C_CONTIGUOUS = True)\n",
    "\n",
    "### Change the array to FORTRAN order"
   ]
  },
  {
   "cell_type": "code",
   "execution_count": 5,
   "metadata": {},
   "outputs": [
    {
     "name": "stdout",
     "output_type": "stream",
     "text": [
      "  C_CONTIGUOUS : False\n",
      "  F_CONTIGUOUS : True\n",
      "  OWNDATA : True\n",
      "  WRITEABLE : True\n",
      "  ALIGNED : True\n",
      "  WRITEBACKIFCOPY : False\n",
      "  UPDATEIFCOPY : False\n",
      "\n"
     ]
    }
   ],
   "source": [
    "a = np.asfortranarray(a)\n",
    "print(a.flags)"
   ]
  },
  {
   "cell_type": "markdown",
   "metadata": {},
   "source": [
    "The array is in FORTRAN order (F_CONTIGUOUS = True)\n",
    "\n",
    "### Print the array"
   ]
  },
  {
   "cell_type": "code",
   "execution_count": 6,
   "metadata": {},
   "outputs": [
    {
     "name": "stdout",
     "output_type": "stream",
     "text": [
      "[[1 2 3]\n",
      " [4 5 6]]\n"
     ]
    }
   ],
   "source": [
    "print(a)"
   ]
  },
  {
   "cell_type": "markdown",
   "metadata": {},
   "source": [
    "Even though the array is in FORTRAN order, it prints the same. The internal representation doesn't effect how Python uses the array. However, it does effect how the GPU uses the array. The GPU array will be in FORTRAN order inside the GPU."
   ]
  }
 ],
 "metadata": {
  "kernelspec": {
   "display_name": "Python 3",
   "language": "python",
   "name": "python3"
  },
  "language_info": {
   "codemirror_mode": {
    "name": "ipython",
    "version": 3
   },
   "file_extension": ".py",
   "mimetype": "text/x-python",
   "name": "python",
   "nbconvert_exporter": "python",
   "pygments_lexer": "ipython3",
   "version": "3.7.6"
  }
 },
 "nbformat": 4,
 "nbformat_minor": 4
}
